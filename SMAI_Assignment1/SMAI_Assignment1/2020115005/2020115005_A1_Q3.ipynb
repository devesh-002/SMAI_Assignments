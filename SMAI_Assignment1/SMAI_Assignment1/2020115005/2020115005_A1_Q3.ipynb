{
 "cells": [
  {
   "cell_type": "markdown",
   "id": "improving-pepper",
   "metadata": {
    "id": "improving-pepper"
   },
   "source": [
    "# Assignment 1 - Question 3\n",
    "The objective of this assignment is to get you familiarize with  the  problem  of  `Linear Regression`.\n",
    "\n",
    "## Instructions\n",
    "- Write your code and analysis in the indicated cells.\n",
    "- Ensure that this notebook runs without errors when the cells are run in sequence.\n",
    "- Do not attempt to change the contents of other cells.\n",
    "- No inbuilt functions to be used until specified.\n",
    "\n",
    "## Submission\n",
    "- Ensure that this notebook runs without errors when the cells are run in sequence.\n",
    "- Rename the notebook to `<roll_number>_A1_Q3.ipynb`."
   ]
  },
  {
   "cell_type": "markdown",
   "id": "final-transaction",
   "metadata": {
    "id": "final-transaction"
   },
   "source": [
    "## 1.3.0 Background about the dataset\n",
    "\n",
    "TLDR: You have 25 independent variables (`x1, x2, x3, ... , x25`) type: `float` for each data point. You can use a linear combination of these 25 independent variables to predict the y (dependent variable) of each data point."
   ]
  },
  {
   "cell_type": "code",
   "execution_count": 1,
   "id": "lyric-olympus",
   "metadata": {
    "id": "lyric-olympus"
   },
   "outputs": [],
   "source": [
    "import csv\n",
    "import random\n",
    "import numpy as np\n",
    "import matplotlib.pyplot as plt"
   ]
  },
  {
   "cell_type": "code",
   "execution_count": 5,
   "id": "hundred-receipt",
   "metadata": {
    "id": "hundred-receipt"
   },
   "outputs": [],
   "source": [
    "train_data = list()\n",
    "with open('../Q3/train_q3.csv', 'r') as infile:\n",
    "    input_rows = csv.DictReader(infile)\n",
    "    for row in input_rows:\n",
    "        data_point = ([float(row['x1']), float(row['x2']), float(row['x3']),\n",
    "                       float(row['x4']), float(row['x5']), float(row['x6']),\n",
    "                        float(row['x7']), float(row['x8']), float(row['x9']),\n",
    "                        float(row['x10']), float(row['x11']), float(row['x12']),\n",
    "                        float(row['x13']), float(row['x14']), float(row['x15']),\n",
    "                        float(row['x16']), float(row['x17']), float(row['x18']),\n",
    "                        float(row['x19']), float(row['x20']), float(row['x21']),\n",
    "                        float(row['x22']), float(row['x23']), float(row['x24']),\n",
    "                        float(row['x25'])], float(row['y']))\n",
    "        train_data.append(data_point)\n",
    "        \n",
    "# each point in x_train has 25 values - 1 for each feature\n",
    "x_train = [x[0] for x in train_data]\n",
    "# each point in y_train has 1 value - the 'y' of the molecule\n",
    "y_train = [x[1] for x in train_data]\n",
    "\n",
    "\n",
    "test_data = list()\n",
    "with open('../Q3/test_q3.csv', 'r') as infile:\n",
    "    input_rows = csv.DictReader(infile)\n",
    "    for row in input_rows:\n",
    "        data_point = ([float(row['x1']), float(row['x2']), float(row['x3']),\n",
    "                        float(row['x4']), float(row['x5']), float(row['x6']),\n",
    "                        float(row['x7']), float(row['x8']), float(row['x9']),\n",
    "                        float(row['x10']), float(row['x11']), float(row['x12']),\n",
    "                        float(row['x13']), float(row['x14']), float(row['x15']),\n",
    "                        float(row['x16']), float(row['x17']), float(row['x18']),\n",
    "                        float(row['x19']), float(row['x20']), float(row['x21']),\n",
    "                        float(row['x22']), float(row['x23']), float(row['x24']),\n",
    "                        float(row['x25'])], float(row['y']))\n",
    "        test_data.append(data_point)\n",
    "\n",
    "x_test = [x[0] for x in test_data]\n",
    "y_test = [x[1] for x in test_data]"
   ]
  },
  {
   "cell_type": "code",
   "execution_count": 6,
   "id": "262ce2e2",
   "metadata": {},
   "outputs": [],
   "source": [
    "x_train_data = np.asarray(x_train, dtype=np.float64)\n",
    "y_train_data = np.asarray(y_train, dtype=np.float64)\n",
    "x_test_data=np.asarray(x_test,dtype=np.float64)\n",
    "y_test_data=np.asarray(y_test,dtype=np.float64)"
   ]
  },
  {
   "cell_type": "markdown",
   "id": "square-direction",
   "metadata": {
    "id": "square-direction"
   },
   "source": [
    "### 1.3.1 Implement a Linear Regression model that minimizes the MSE **without using any libraries**. You may use NumPy to vectorize your code, but *do not use numpy.polyfit* or anything similar.\n",
    "\n",
    "1.3.1.1 Explain how you plan to implement Linear Regression in 5-10 lines.\n",
    "\n",
    "1.3.1.2 Implement Linear Regression using `x_train` and `y_train` as the train dataset.\n",
    "\n",
    "1.3.2.3 Choose the best learning rate and print the learning rate for which you achieved the best MSE.\n",
    "\n",
    "1.2.1.4 Make a [Parity Plot](https://en.wikipedia.org/wiki/Parity_plot) of your model's bandgap predictions on the test set with the actual values."
   ]
  },
  {
   "cell_type": "markdown",
   "id": "frozen-forth",
   "metadata": {
    "id": "frozen-forth"
   },
   "source": [
    "<!-- your answer to 1.3.1.1 -->\n",
    "`ANSWER 1.3.1.1`"
   ]
  },
  {
   "attachments": {},
   "cell_type": "markdown",
   "id": "79cd22e1",
   "metadata": {},
   "source": [
    "I will define a class named Linear regression, which trains the model by performing the dot products on weights and adding a bias term\n",
    "The weights are updated after every epoch by performing a gradient descent and going down the curve slowly\n",
    "The bias then needs to be updated after each epoch and then after each time, the bias is updated and checked\n",
    "The cost function is implemented simply by taking difference between the predicted values, squaring them, summing them and dividing by shape\n",
    "It can be then used to predict the models as the weights are now updated"
   ]
  },
  {
   "cell_type": "code",
   "execution_count": 7,
   "id": "angry-depression",
   "metadata": {
    "id": "angry-depression"
   },
   "outputs": [],
   "source": [
    "# 1.3.1.2\n",
    "# implement Linear Regression\n",
    "import math\n",
    "class LinearReg():\n",
    "  \n",
    "  def train(self,x_train_data,y_train_data,iters=5,alpha=0.001):\n",
    "\n",
    "    weights=np.zeros((1,x_train_data.shape[1]))\n",
    "    y_train_data.resize((y_train_data.shape[0],1))\n",
    "  \n",
    "    bias=np.random.randn()\n",
    "    divide=(1/x_train_data.shape[0])\n",
    "\n",
    "    for i in range(iters):\n",
    "\n",
    "      calculated_vals=np.dot(x_train_data,weights.T)+bias\n",
    "      #             25*240        240*1\n",
    "      j_x=np.dot(x_train_data.T,(calculated_vals-y_train_data))\n",
    "      j_b=np.sum(calculated_vals-y_train_data)\n",
    "      x=weights.T- alpha*j_x*divide\n",
    "      weights=x.T\n",
    "\n",
    "      bias-= alpha*j_b*divide\n",
    "    self.bias=bias\n",
    "    self.weights=weights.T\n",
    "\n",
    "  def predict(self,x_test_data):\n",
    "    return np.dot(x_test_data,self.weights)+self.bias\n",
    "\n",
    "def mse_cost_func(linear_model:LinearReg(),x_test_data,y_test_data):\n",
    "  return  ((1/x_test_data.shape[0]) *np.sum(np.square(linear_model.predict(x_test_data)-y_test_data))) \n",
    "\n",
    "aa=LinearReg()\n",
    "aa.train(x_train_data,y_train_data,iters=10000,alpha=0.03)\n",
    "y_pred=aa.predict(x_test_data)\n"
   ]
  },
  {
   "cell_type": "code",
   "execution_count": 8,
   "id": "ee06170e",
   "metadata": {},
   "outputs": [],
   "source": [
    "costs=[]\n",
    "val=0.01\n",
    "l=[]\n",
    "\n",
    "for i in range(100):\n",
    "    l.append(val)\n",
    "    val+=0.001\n",
    "for i in l:\n",
    "    aa.train(x_train_data,y_train_data,iters=10000,alpha=i)\n",
    "    costs.append(mse_cost_func(aa,x_test_data,y_test_data))\n"
   ]
  },
  {
   "cell_type": "code",
   "execution_count": 9,
   "id": "4a3672cc",
   "metadata": {},
   "outputs": [
    {
     "data": {
      "image/png": "[encoded data removed]",
      "text/plain": [
       "<Figure size 432x288 with 1 Axes>"
      ]
     },
     "metadata": {
      "needs_background": "light"
     },
     "output_type": "display_data"
    }
   ],
   "source": [
    "\n",
    "# plot RMSE vs alpha\n",
    "plt.plot(l, costs)\n",
    "plt.xlabel('learning rate')\n",
    "plt.ylabel('MSE')\n",
    "plt.title('MSE vs learning rate')\n",
    "plt.show()"
   ]
  },
  {
   "cell_type": "code",
   "execution_count": 10,
   "id": "foster-center",
   "metadata": {
    "id": "foster-center"
   },
   "outputs": [
    {
     "data": {
      "image/png": "[encoded data removed]",
      "text/plain": [
       "<Figure size 504x504 with 1 Axes>"
      ]
     },
     "metadata": {
      "needs_background": "light"
     },
     "output_type": "display_data"
    }
   ],
   "source": [
    "# 1.3.1.4\n",
    "# Get the predictions of x_test into `y_pred`\n",
    "fig, ax = plt.subplots(figsize=(7,7))\n",
    "ax.scatter(y_test, y_pred)\n",
    "\n",
    "lims = [\n",
    "    np.min([ax.get_xlim(), ax.get_ylim()]),\n",
    "    np.max([ax.get_xlim(), ax.get_ylim()]),\n",
    "]\n",
    "ax.plot(lims, lims, 'k-', alpha=0.75, zorder=0)\n",
    "ax.set_aspect('equal')\n",
    "ax.set_xlim(lims)\n",
    "ax.set_ylim(lims)\n",
    "\n",
    "ax.set_title('Parity Plot of Custom Linear Regression')\n",
    "ax.set_xlabel('Ground truth y-values')\n",
    "ax.set_ylabel('Predicted y-values')\n",
    "plt.show()"
   ]
  },
  {
   "cell_type": "markdown",
   "id": "dominant-chaos",
   "metadata": {
    "id": "dominant-chaos"
   },
   "source": [
    "### 1.3.2 Implement Ridge Regression\n",
    "\n",
    "1.3.2.1 Explain Ridge regression briefly in 1-2 lines.\n",
    "\n",
    "1.3.2.2 Implement Ridge regression and make a table of different RMSE scores you achieved with different values of alpha. What does the parameter `alpha` do?\n",
    "\n",
    "1.3.2.3 How does it affect the results here? Explain in 5-10 lines in total. (You can use scikit-learn from this cell onwards)\n",
    "\n",
    "1.3.2.4 Make a Parity Plot of Ridge Regression model's y-predictions on the test set with the actual values."
   ]
  },
  {
   "cell_type": "markdown",
   "id": "happy-cyprus",
   "metadata": {
    "id": "happy-cyprus"
   },
   "source": [
    "<!-- Your answer to 1.3.2.1 -->\n",
    "`1.3.2.1 Answer`"
   ]
  },
  {
   "attachments": {},
   "cell_type": "markdown",
   "id": "167b8607",
   "metadata": {},
   "source": [
    "Regularization is a technique of penalizing variables which are independented but can be correlated, the regularization term penalises them on higher terms which are dependent on each other, in ridge it is done by squaring the weights multiplied by alpha , also known as L2 norm."
   ]
  },
  {
   "cell_type": "code",
   "execution_count": 11,
   "id": "02a50a51",
   "metadata": {
    "id": "02a50a51"
   },
   "outputs": [],
   "source": [
    "# 1.3.2.2\n",
    "# you should not have imported sklearn before this point\n",
    "import sklearn\n",
    "from sklearn.metrics import mean_squared_error\n",
    "\n",
    "class RidgeRegression():\n",
    "  \n",
    "  def train(self,x_train_data,y_train_data,iters=5,alpha=0.001,ridgecoeff=0.1):\n",
    "\n",
    "    weights=np.zeros((1,x_train_data.shape[1]))\n",
    "    y_train_data.resize((y_train_data.shape[0],1))\n",
    "  \n",
    "    bias=np.random.randn()\n",
    "    divide=(1/x_train_data.shape[0])\n",
    "\n",
    "    for i in range(iters):\n",
    "\n",
    "      calculated_vals=np.dot(x_train_data,weights.T)+bias\n",
    "      #             25*240        240*1\n",
    "      j_x=divide*np.dot(x_train_data.T,(calculated_vals-y_train_data))+2*ridgecoeff*weights.T\n",
    "      j_b=np.sum(calculated_vals-y_train_data)\n",
    "      x=weights.T- alpha*j_x\n",
    "      weights=x.T\n",
    "      bias-= alpha*j_b*divide\n",
    "    self.bias=bias\n",
    "    self.weights=weights.T\n",
    "\n",
    "  def predict(self,x_test_data):\n",
    "    return np.dot(x_test_data,self.weights)+self.bias\n",
    "\n",
    "def mse_cost_func(linear_model,x_test_data,y_test_data):\n",
    "  # return  np.sqrt((1/x_test_data.shape[0]) *np.sum(np.square(linear_model.predict(x_test_data)-y_test_data))) \n",
    "  return math.sqrt(np.square(np.subtract(y_test_data,linear_model.predict(x_test_data))).mean())\n",
    "aa=RidgeRegression()\n",
    "aa.train(x_train_data,y_train_data,iters=10000)\n",
    "# implement Ridge regression and make a table where you explore the effect of different values of `alpha`"
   ]
  },
  {
   "cell_type": "code",
   "execution_count": 12,
   "id": "129c1301",
   "metadata": {},
   "outputs": [
    {
     "data": {
      "text/plain": [
       "Ridge(alpha=0.9)"
      ]
     },
     "execution_count": 12,
     "metadata": {},
     "output_type": "execute_result"
    }
   ],
   "source": [
    "# Sklearns Ridge Regression\n",
    "from sklearn.linear_model import Ridge\n",
    "sk_ridge=Ridge(alpha=0.9)\n",
    "sk_ridge.fit(x_train_data,y_train_data)"
   ]
  },
  {
   "attachments": {},
   "cell_type": "markdown",
   "id": "e28eed3a",
   "metadata": {},
   "source": [
    "The paramter with time changes its values and the RMSE decreases with increase in alpha, and reaches a minima, but as we can see in graph, the global minima was at value 0.0, which indicates that the curve could fit in completely without any penalization and the graph was a complete fit. This however is not always true because in real world datasets, parameters tend to be correlated and hence regularization is of great use there to properly modify the weights.\n",
    "\n",
    "The parameter alpha increases importance of the penalizing value(weight squares here) and increases it as the value increases slowly after reaching a short maxima in between."
   ]
  },
  {
   "cell_type": "code",
   "execution_count": 13,
   "id": "cfb91afd",
   "metadata": {},
   "outputs": [],
   "source": [
    "# costs=[]\n",
    "\n",
    "\n",
    "val=0.00\n",
    "l=[]\n",
    "costs=[]\n",
    "costs_crct=[]\n",
    "for i in range(200):\n",
    "    l.append(val)\n",
    "    val+=0.01\n",
    "costs_=[]\n",
    "for i in l:\n",
    "    # print(i)\n",
    "    sk_ridge=Ridge(alpha=i)\n",
    "    sk_ridge.fit(x_train_data,y_train_data)\n",
    "    costs.append(mse_cost_func(sk_ridge,x_test_data,y_test_data))\n",
    "    # costs_.append(RMSE(sk_ridge,x_test_data,y_test_data))\n",
    "    costs_crct.append(mean_squared_error(y_test_data,sk_ridge.predict(x_test_data)))\n"
   ]
  },
  {
   "cell_type": "code",
   "execution_count": 14,
   "id": "0476c77b",
   "metadata": {},
   "outputs": [],
   "source": [
    "\n",
    "# # plot RMSE vs alpha\n",
    "# plt.plot(l,costs_crct )\n",
    "# # print(costs)\n",
    "# plt.xlabel('alpha rate')\n",
    "# plt.ylabel('RMSE')\n",
    "# plt.title('RMSE vs alpha rate')\n",
    "# plt.show()"
   ]
  },
  {
   "cell_type": "code",
   "execution_count": 15,
   "id": "1d6e0951",
   "metadata": {},
   "outputs": [
    {
     "data": {
      "image/png": "[encoded data removed]",
      "text/plain": [
       "<Figure size 432x288 with 1 Axes>"
      ]
     },
     "metadata": {
      "needs_background": "light"
     },
     "output_type": "display_data"
    }
   ],
   "source": [
    "\n",
    "# plot RMSE vs alpha\n",
    "plt.plot(l,costs )\n",
    "# print(costs)\n",
    "plt.xlabel('alpha rate')\n",
    "plt.ylabel('RMSE')\n",
    "plt.title('RMSE vs alpha rate')\n",
    "plt.show()"
   ]
  },
  {
   "cell_type": "markdown",
   "id": "e54d36d9",
   "metadata": {
    "id": "e54d36d9"
   },
   "source": [
    "<!-- Your answer to 1.3.2.3 -->\n",
    "`1.3.2.3 Answer`"
   ]
  },
  {
   "cell_type": "code",
   "execution_count": 16,
   "id": "e9d2c1e8",
   "metadata": {
    "id": "e9d2c1e8"
   },
   "outputs": [
    {
     "data": {
      "image/png": "[encoded data removed]",
      "text/plain": [
       "<Figure size 504x504 with 1 Axes>"
      ]
     },
     "metadata": {
      "needs_background": "light"
     },
     "output_type": "display_data"
    }
   ],
   "source": [
    "# 1.3.1.4\n",
    "# Get the predictions of x_test into `y_pred`\n",
    "sk_ridge=Ridge(alpha=0)\n",
    "sk_ridge.fit(x_train_data,y_train_data)\n",
    "# ridge.train(x_train_data,y_train_data,alpha=0.03,ridgecoeff=0.1)\n",
    "y_pred=sk_ridge.predict(x_test_data)\n",
    "# print(y_test,y_pred)\n",
    "fig, ax = plt.subplots(figsize=(7,7))\n",
    "\n",
    "ax.scatter(y_test, y_pred)\n",
    "\n",
    "lims = [\n",
    "    np.min([ax.get_xlim(), ax.get_ylim()]),\n",
    "    np.max([ax.get_xlim(), ax.get_ylim()]),\n",
    "]\n",
    "ax.plot(lims, lims, 'k-', alpha=0.75, zorder=0)\n",
    "ax.set_aspect('equal')\n",
    "ax.set_xlim(lims)\n",
    "ax.set_ylim(lims)\n",
    "\n",
    "ax.set_title('Parity Plot of Custom Linear Regression')\n",
    "ax.set_xlabel('Ground truth y-values')\n",
    "ax.set_ylabel('Predicted y-values')\n",
    "plt.show()"
   ]
  },
  {
   "cell_type": "markdown",
   "id": "popular-wonder",
   "metadata": {
    "id": "popular-wonder"
   },
   "source": [
    "### 1.3.3 Implement Lasso Regression\n",
    "1.3.3.1 Explain Lasso regression briefly in 1-2 lines.\n",
    "\n",
    "1.3.3.2 Implement Lasso regression and make a table of different RMSE scores you achieved with different values of alpha.\n",
    "\n",
    "1.3.3.3 What does the parameter `alpha` do? How does it affect the results here? Explain in 5-10 lines in total.\n",
    "\n",
    "1.3.3.4 Make a Parity Plot of Lasso Regression model's y-predictions on the test set with the actual values."
   ]
  },
  {
   "cell_type": "markdown",
   "id": "mV9BlPIjm-K1",
   "metadata": {
    "id": "mV9BlPIjm-K1"
   },
   "source": [
    "<!-- Your answer to 1.3.3.1 -->\n",
    "`1.3.3.1 Answer`"
   ]
  },
  {
   "attachments": {},
   "cell_type": "markdown",
   "id": "d80457c1",
   "metadata": {},
   "source": [
    "Regularization is a technique of penalizing variables which are independented but can be correlated, the regularization term penalises them on higher terms which are dependent on each other, in Lasso it is done by simply adding the coefficients of the function multiplied by alpha , also known as L1 norm.\n"
   ]
  },
  {
   "cell_type": "code",
   "execution_count": 17,
   "id": "09148bbc",
   "metadata": {
    "id": "09148bbc"
   },
   "outputs": [
    {
     "data": {
      "text/plain": [
       "Lasso(alpha=0.01)"
      ]
     },
     "execution_count": 17,
     "metadata": {},
     "output_type": "execute_result"
    }
   ],
   "source": [
    "# 1.3.3.2\n",
    "# implement Lasso regression and make a table where you explore the effect of different values of `alpha`\n",
    "from sklearn.linear_model import Lasso\n",
    "sk_lasso=Lasso(alpha=0.01)\n",
    "sk_lasso.fit(x_train_data,y_train_data)\n"
   ]
  },
  {
   "cell_type": "code",
   "execution_count": 18,
   "id": "ae6e8b61",
   "metadata": {},
   "outputs": [],
   "source": [
    "val=0.001\n",
    "l=[]\n",
    "costs=[]\n",
    "costs_crct=[]\n",
    "for i in range(200):\n",
    "    l.append(val)\n",
    "    val+=0.001\n",
    "for i in l:\n",
    "    # print(i)\n",
    "    sk_lasso=Lasso(alpha=i)\n",
    "    sk_lasso.fit(x_train_data,y_train_data)\n",
    "    costs.append(mse_cost_func(sk_lasso,x_test_data,y_test_data))\n",
    "\n"
   ]
  },
  {
   "cell_type": "code",
   "execution_count": 19,
   "id": "f2e99cc7",
   "metadata": {},
   "outputs": [
    {
     "data": {
      "image/png": "[encoded data removed]",
      "text/plain": [
       "<Figure size 432x288 with 1 Axes>"
      ]
     },
     "metadata": {
      "needs_background": "light"
     },
     "output_type": "display_data"
    }
   ],
   "source": [
    "\n",
    "# plot RMSE vs alpha\n",
    "plt.plot(l, costs)\n",
    "# print(costs)\n",
    "plt.xlabel('alpha rate')\n",
    "plt.ylabel('RMSE')\n",
    "plt.title('RMSE vs alpha rate')\n",
    "plt.show()"
   ]
  },
  {
   "cell_type": "markdown",
   "id": "Hq5eyeqem-K2",
   "metadata": {
    "id": "Hq5eyeqem-K2"
   },
   "source": [
    "<!-- Your answer to 1.3.3.3 -->\n",
    "`1.3.3.3 Answer`"
   ]
  },
  {
   "attachments": {},
   "cell_type": "markdown",
   "id": "f814d7a8",
   "metadata": {},
   "source": [
    "The parameter alpha increases importance of the penalizing value(coefficient sum here) and increases it as the value increases, after reaching a minima, showing a small dependence according the L1-norm.\n",
    "As taught in class about contours, the value shows a small minima close to 0.01 in lasso regression, and it will increase after that because it is penalizing the weights heavily and hence is not useful."
   ]
  },
  {
   "cell_type": "code",
   "execution_count": 20,
   "id": "accompanied-worst",
   "metadata": {
    "id": "accompanied-worst"
   },
   "outputs": [
    {
     "data": {
      "image/png": "[encoded data removed]",
      "text/plain": [
       "<Figure size 504x504 with 1 Axes>"
      ]
     },
     "metadata": {
      "needs_background": "light"
     },
     "output_type": "display_data"
    }
   ],
   "source": [
    "# 1.3.3.4\n",
    "# 1.3.1.4\n",
    "# Get the predictions of x_test into `y_pred`\n",
    "# ridge=RidgeRegression()\n",
    "# ridge.train(x_train_data,y_train_data,alpha=0.03,ridgecoeff=0.1)\n",
    "sk_lasso=Lasso(alpha=0.01)\n",
    "sk_lasso.fit(x_train_data,y_train_data)\n",
    "\n",
    "y_pred=sk_lasso.predict(x_test_data)\n",
    "# print(y_test,y_pred)\n",
    "fig, ax = plt.subplots(figsize=(7,7))\n",
    "\n",
    "ax.scatter(y_test, y_pred)\n",
    "\n",
    "lims = [\n",
    "    np.min([ax.get_xlim(), ax.get_ylim()]),\n",
    "    np.max([ax.get_xlim(), ax.get_ylim()]),\n",
    "]\n",
    "ax.plot(lims, lims, 'k-', alpha=0.25, zorder=0)\n",
    "ax.set_aspect('equal')\n",
    "ax.set_xlim(lims)\n",
    "ax.set_ylim(lims)\n",
    "\n",
    "ax.set_title('Parity Plot of Custom Linear Regression')\n",
    "ax.set_xlabel('Ground truth y-values')\n",
    "ax.set_ylabel('Predicted y-values')\n",
    "plt.show()"
   ]
  }
 ],
 "metadata": {
  "colab": {
   "provenance": []
  },
  "kernelspec": {
   "display_name": "Python 3",
   "language": "python",
   "name": "python3"
  },
  "language_info": {
   "codemirror_mode": {
    "name": "ipython",
    "version": 3
   },
   "file_extension": ".py",
   "mimetype": "text/x-python",
   "name": "python",
   "nbconvert_exporter": "python",
   "pygments_lexer": "ipython3",
   "version": "3.8.10"
  },
  "vscode": {
   "interpreter": {
    "hash": "916dbcbb3f70747c44a77c7bcd40155683ae19c65e1c03b4aa3499c5328201f1"
   }
  }
 },
 "nbformat": 4,
 "nbformat_minor": 5
}
