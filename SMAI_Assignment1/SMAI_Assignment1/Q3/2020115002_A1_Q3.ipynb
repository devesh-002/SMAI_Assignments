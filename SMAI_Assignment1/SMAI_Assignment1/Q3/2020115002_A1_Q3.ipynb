{
 "cells": [
  {
   "cell_type": "markdown",
   "id": "improving-pepper",
   "metadata": {
    "id": "improving-pepper"
   },
   "source": [
    "# Assignment 1 - Question 3\n",
    "The objective of this assignment is to get you familiarize with  the  problem  of  `Linear Regression`.\n",
    "\n",
    "## Instructions\n",
    "- Write your code and analysis in the indicated cells.\n",
    "- Ensure that this notebook runs without errors when the cells are run in sequence.\n",
    "- Do not attempt to change the contents of other cells.\n",
    "- No inbuilt functions to be used until specified.\n",
    "\n",
    "## Submission\n",
    "- Ensure that this notebook runs without errors when the cells are run in sequence.\n",
    "- Rename the notebook to `<roll_number>_A1_Q3.ipynb`."
   ]
  },
  {
   "cell_type": "markdown",
   "id": "final-transaction",
   "metadata": {
    "id": "final-transaction"
   },
   "source": [
    "## 1.3.0 Background about the dataset\n",
    "\n",
    "TLDR: You have 25 independent variables (`x1, x2, x3, ... , x25`) type: `float` for each data point. You can use a linear combination of these 25 independent variables to predict the y (dependent variable) of each data point."
   ]
  },
  {
   "cell_type": "code",
   "execution_count": 1,
   "id": "lyric-olympus",
   "metadata": {
    "id": "lyric-olympus"
   },
   "outputs": [],
   "source": [
    "import csv\n",
    "import random\n",
    "import numpy as np\n",
    "import matplotlib.pyplot as plt"
   ]
  },
  {
   "cell_type": "code",
   "execution_count": 2,
   "id": "hundred-receipt",
   "metadata": {
    "id": "hundred-receipt"
   },
   "outputs": [],
   "source": [
    "train_data = list()\n",
    "with open('train_q3.csv', 'r') as infile:\n",
    "    input_rows = csv.DictReader(infile)\n",
    "    for row in input_rows:\n",
    "        data_point = ([float(row['x1']), float(row['x2']), float(row['x3']),\n",
    "                       float(row['x4']), float(row['x5']), float(row['x6']),\n",
    "                        float(row['x7']), float(row['x8']), float(row['x9']),\n",
    "                        float(row['x10']), float(row['x11']), float(row['x12']),\n",
    "                        float(row['x13']), float(row['x14']), float(row['x15']),\n",
    "                        float(row['x16']), float(row['x17']), float(row['x18']),\n",
    "                        float(row['x19']), float(row['x20']), float(row['x21']),\n",
    "                        float(row['x22']), float(row['x23']), float(row['x24']),\n",
    "                        float(row['x25'])], float(row['y']))\n",
    "        train_data.append(data_point)\n",
    "        \n",
    "# each point in x_train has 25 values - 1 for each feature\n",
    "x_train = [x[0] for x in train_data]\n",
    "# each point in y_train has 1 value - the 'y' of the molecule\n",
    "y_train = [x[1] for x in train_data]\n",
    "\n",
    "\n",
    "test_data = list()\n",
    "with open('test_q3.csv', 'r') as infile:\n",
    "    input_rows = csv.DictReader(infile)\n",
    "    for row in input_rows:\n",
    "        data_point = ([float(row['x1']), float(row['x2']), float(row['x3']),\n",
    "                        float(row['x4']), float(row['x5']), float(row['x6']),\n",
    "                        float(row['x7']), float(row['x8']), float(row['x9']),\n",
    "                        float(row['x10']), float(row['x11']), float(row['x12']),\n",
    "                        float(row['x13']), float(row['x14']), float(row['x15']),\n",
    "                        float(row['x16']), float(row['x17']), float(row['x18']),\n",
    "                        float(row['x19']), float(row['x20']), float(row['x21']),\n",
    "                        float(row['x22']), float(row['x23']), float(row['x24']),\n",
    "                        float(row['x25'])], float(row['y']))\n",
    "        test_data.append(data_point)\n",
    "\n",
    "x_test = [x[0] for x in test_data]\n",
    "y_test = [x[1] for x in test_data]"
   ]
  },
  {
   "cell_type": "markdown",
   "id": "square-direction",
   "metadata": {
    "id": "square-direction"
   },
   "source": [
    "### 1.3.1 Implement a Linear Regression model that minimizes the MSE **without using any libraries**. You may use NumPy to vectorize your code, but *do not use numpy.polyfit* or anything similar.\n",
    "\n",
    "1.3.1.1 Explain how you plan to implement Linear Regression in 5-10 lines.\n",
    "\n",
    "1.3.1.2 Implement Linear Regression using `x_train` and `y_train` as the train dataset.\n",
    "\n",
    "1.3.2.3 Choose the best learning rate and print the learning rate for which you achieved the best MSE.\n",
    "\n",
    "1.2.1.4 Make a [Parity Plot](https://en.wikipedia.org/wiki/Parity_plot) of your model's bandgap predictions on the test set with the actual values."
   ]
  },
  {
   "cell_type": "markdown",
   "id": "frozen-forth",
   "metadata": {
    "id": "frozen-forth"
   },
   "source": [
    "<!-- your answer to 1.3.1.1 -->\n",
    "`ANSWER 1.3.1.1`"
   ]
  },
  {
   "cell_type": "code",
   "execution_count": 3,
   "id": "angry-depression",
   "metadata": {
    "id": "angry-depression"
   },
   "outputs": [],
   "source": [
    "# 1.3.1.2\n",
    "# implement Linear Regression\n",
    "\n",
    "# convert lists to numpy arrays\n",
    "x_train = np.array(x_train)\n",
    "y_train = np.array(y_train)\n",
    "x_test = np.array(x_test)\n",
    "y_test = np.array(y_test)\n",
    "\n",
    "y_train.shape\n",
    "\n",
    "# convert y_train and y_test to a column vector\n",
    "y_train = y_train.reshape(-1, 1)\n",
    "y_test = y_test.reshape(-1, 1)"
   ]
  },
  {
   "cell_type": "code",
   "execution_count": 4,
   "id": "0feeabc2",
   "metadata": {},
   "outputs": [],
   "source": [
    "# Class for Linear Regression\n",
    "class LinearRegression:\n",
    "    def __init__(self, x_train, y_train, x_test, y_test, lr=0.01):\n",
    "        self.x_train = x_train\n",
    "        self.y_train = y_train\n",
    "        self.x_test = x_test\n",
    "        self.y_test = y_test\n",
    "        self.w = np.zeros((x_train.shape[1], 1))\n",
    "        self.b = 0\n",
    "        self.learning_rate = lr\n",
    "        self.num_iterations = 10000\n",
    "        self.costs = []\n",
    "        \n",
    "    def fit(self):\n",
    "        m = self.x_train.shape[0]\n",
    "        for i in range(self.num_iterations):\n",
    "            # calculate y_hat\n",
    "            y_hat = np.dot(self.x_train, self.w) + self.b\n",
    "            # calculate cost\n",
    "            cost = (1/(2*m)) * np.sum(np.square(y_hat - self.y_train))\n",
    "            # calculate gradients\n",
    "            dw = (1/m) * np.dot(self.x_train.T, (y_hat - self.y_train))\n",
    "            db = (1/m) * np.sum(y_hat - self.y_train)\n",
    "            # update weights and bias\n",
    "            self.w = self.w - self.learning_rate * dw\n",
    "            self.b = self.b - self.learning_rate * db\n",
    "            # print(self.w.shape)\n",
    "            # store cost\n",
    "            self.costs.append(cost)\n",
    "\n",
    "            # stop if cost is less than 0.0001\n",
    "            if cost < 0.0001:\n",
    "                break\n",
    "            \n",
    "    def predict(self, x):\n",
    "        y_hat = np.dot(x, self.w) + self.b\n",
    "        return y_hat\n",
    "    \n",
    "    def MSE(self):\n",
    "        y_hat = self.predict(self.x_test)\n",
    "        m = self.x_test.shape[0]\n",
    "        mse = (1/m) * np.sum(np.square(y_hat - self.y_test))\n",
    "        return mse\n",
    "\n",
    "    def plot_train_error(self):\n",
    "        plt.plot(self.costs)\n",
    "        plt.xlabel('Iterations')\n",
    "        plt.ylabel('Train Error')\n",
    "        plt.title('Train Error vs Iterations')\n",
    "        plt.show()\n",
    "\n",
    "        \n",
    "  "
   ]
  },
  {
   "cell_type": "code",
   "execution_count": 5,
   "id": "b19c0ac4",
   "metadata": {
    "id": "b19c0ac4"
   },
   "outputs": [
    {
     "data": {
      "image/png": "[encoded data removed]",
      "text/plain": [
       "<Figure size 432x288 with 1 Axes>"
      ]
     },
     "metadata": {
      "needs_background": "light"
     },
     "output_type": "display_data"
    }
   ],
   "source": [
    "# 1.3.2.3\n",
    "# try with different learning rates and choose the best one\n",
    "\n",
    "# try learning rates from 0.001 to 0.1 with step size 0.001\n",
    "learning_rates = np.arange(0.001, 0.1, 0.001)\n",
    "# store MSE for each learning rate\n",
    "MSEs = []\n",
    "for lr in learning_rates:\n",
    "    model = LinearRegression(x_train, y_train, x_test, y_test, lr)\n",
    "    model.fit()\n",
    "    MSEs.append(model.MSE())\n",
    "\n",
    "# plot MSE vs learning rate\n",
    "plt.plot(learning_rates, MSEs)\n",
    "plt.xlabel('Learning Rate')\n",
    "plt.ylabel('MSE')\n",
    "plt.title('MSE vs Learning Rate')\n",
    "plt.show()"
   ]
  },
  {
   "cell_type": "code",
   "execution_count": 6,
   "id": "foster-center",
   "metadata": {
    "id": "foster-center"
   },
   "outputs": [
    {
     "data": {
      "image/png": "[encoded data removed]",
      "text/plain": [
       "<Figure size 504x504 with 1 Axes>"
      ]
     },
     "metadata": {
      "needs_background": "light"
     },
     "output_type": "display_data"
    }
   ],
   "source": [
    "# 1.3.1.4\n",
    "# Get the predictions of x_test into `y_pred`\n",
    "\n",
    "# fit the model with the best learning rate\n",
    "model = LinearRegression(x_train, y_train, x_test, y_test, 0.03)\n",
    "model.fit()\n",
    "# get predictions\n",
    "y_pred = model.predict(x_test)\n",
    "\n",
    "fig, ax = plt.subplots(figsize=(7,7))\n",
    "\n",
    "ax.scatter(y_test, y_pred)\n",
    "\n",
    "lims = [\n",
    "    np.min([ax.get_xlim(), ax.get_ylim()]),\n",
    "    np.max([ax.get_xlim(), ax.get_ylim()]),\n",
    "]\n",
    "ax.plot(lims, lims, 'k-', alpha=0.75, zorder=0)\n",
    "ax.set_aspect('equal')\n",
    "ax.set_xlim(lims)\n",
    "ax.set_ylim(lims)\n",
    "\n",
    "ax.set_title('Parity Plot of Custom Linear Regression')\n",
    "ax.set_xlabel('Ground truth y-values')\n",
    "ax.set_ylabel('Predicted y-values')\n",
    "plt.show()"
   ]
  },
  {
   "cell_type": "markdown",
   "id": "dominant-chaos",
   "metadata": {
    "id": "dominant-chaos"
   },
   "source": [
    "### 1.3.2 Implement Ridge Regression\n",
    "\n",
    "1.3.2.1 Explain Ridge regression briefly in 1-2 lines.\n",
    "\n",
    "1.3.2.2 Implement Ridge regression and make a table of different RMSE scores you achieved with different values of alpha. What does the parameter `alpha` do?\n",
    "\n",
    "1.3.2.3 How does it affect the results here? Explain in 5-10 lines in total. (You can use scikit-learn from this cell onwards)\n",
    "\n",
    "1.3.2.4 Make a Parity Plot of Ridge Regression model's y-predictions on the test set with the actual values."
   ]
  },
  {
   "cell_type": "markdown",
   "id": "happy-cyprus",
   "metadata": {
    "id": "happy-cyprus"
   },
   "source": [
    "<!-- Your answer to 1.3.2.1 -->\n",
    "`1.3.2.1 Answer`"
   ]
  },
  {
   "cell_type": "code",
   "execution_count": 7,
   "id": "02a50a51",
   "metadata": {
    "id": "02a50a51"
   },
   "outputs": [
    {
     "data": {
      "image/png": "[encoded data removed]",
      "text/plain": [
       "<Figure size 432x288 with 1 Axes>"
      ]
     },
     "metadata": {
      "needs_background": "light"
     },
     "output_type": "display_data"
    }
   ],
   "source": [
    "# 1.3.2.2\n",
    "# you should not have imported sklearn before this point\n",
    "import sklearn\n",
    "from sklearn.metrics import mean_squared_error\n",
    "\n",
    "# implement Ridge regression and make a table where you explore the effect of different values of `alpha`\n",
    "\n",
    "# Class for Ridge Regression\n",
    "class RidgeRegression:\n",
    "    def __init__(self, x_train, y_train, x_test, y_test, lr=0.03, alpha=0.1):\n",
    "        self.x_train = x_train\n",
    "        self.y_train = y_train\n",
    "        self.x_test = x_test\n",
    "        self.y_test = y_test\n",
    "        self.w = np.zeros((x_train.shape[1], 1))\n",
    "        self.b = 0\n",
    "        self.learning_rate = lr\n",
    "        self.num_iterations = 10000\n",
    "        self.alpha = alpha\n",
    "        self.costs = []\n",
    "        \n",
    "    def fit(self):\n",
    "        m = self.x_train.shape[0]\n",
    "        for i in range(self.num_iterations):\n",
    "            # calculate y_hat\n",
    "            y_hat = np.dot(self.x_train, self.w) + self.b\n",
    "            # calculate cost\n",
    "            cost = (1/(2*m)) * np.sum(np.square(y_hat - self.y_train)) + self.alpha * np.sum(np.square(self.w))\n",
    "            # calculate gradients\n",
    "            dw = (1/m) * np.dot(self.x_train.T, (y_hat - self.y_train)) + 2 * self.alpha * self.w\n",
    "            db = (1/m) * np.sum(y_hat - self.y_train)\n",
    "            # update weights and bias\n",
    "            self.w = self.w - self.learning_rate * dw\n",
    "            self.b = self.b - self.learning_rate * db\n",
    "            # store cost\n",
    "            self.costs.append(cost)\n",
    "\n",
    "            # stop if cost is less than 0.0001\n",
    "            if cost < 0.0001:\n",
    "                break\n",
    "            \n",
    "    def predict(self, x):\n",
    "        y_hat = np.dot(x, self.w) + self.b\n",
    "        return y_hat\n",
    "    \n",
    "    def RMSE(self):\n",
    "        y_hat = self.predict(self.x_test)\n",
    "        m = self.x_test.shape[0]\n",
    "        rmse = np.sqrt((1/m) * np.sum(np.square(y_hat - self.y_test)))\n",
    "        return rmse\n",
    "\n",
    "    def plot_train_error(self):\n",
    "        plt.plot(self.costs)\n",
    "        plt.xlabel('Iterations')\n",
    "        plt.ylabel('Train Error')\n",
    "        plt.title('Train Error vs Iterations')\n",
    "        plt.show()\n",
    "x=RidgeRegression(x_train, y_train, x_test, y_test, 0.03, 2.5)\n",
    "x.fit()\n",
    "x.plot_train_error()"
   ]
  },
  {
   "cell_type": "code",
   "execution_count": 8,
   "id": "633f8f25",
   "metadata": {},
   "outputs": [
    {
     "data": {
      "image/png": "[encoded data removed]",
      "text/plain": [
       "<Figure size 432x288 with 1 Axes>"
      ]
     },
     "metadata": {
      "needs_background": "light"
     },
     "output_type": "display_data"
    }
   ],
   "source": [
    "# try different values of alpha\n",
    "from sklearn.metrics import mean_sq\n",
    "# try alphas from 0 to 20 with step size 0.1\n",
    "alphas = np.arange(0, 20, 0.1)\n",
    "# store RMSE for each alpha\n",
    "RMSEs = []\n",
    "for alpha in alphas:\n",
    "    model = RidgeRegression(x_train, y_train, x_test, y_test, 0.03, alpha)\n",
    "    model.fit()\n",
    "    RMSEs.append(model.RMSE())\n",
    "\n",
    "# plot RMSE vs alpha\n",
    "plt.plot(alphas, RMSEs)\n",
    "plt.xlabel('Alpha')\n",
    "plt.ylabel('RMSE')\n",
    "plt.title('RMSE vs Alpha (Ridge Regression)')\n",
    "plt.show()"
   ]
  },
  {
   "cell_type": "markdown",
   "id": "e54d36d9",
   "metadata": {
    "id": "e54d36d9"
   },
   "source": [
    "<!-- Your answer to 1.3.2.3 -->\n",
    "`1.3.2.3 Answer`"
   ]
  },
  {
   "cell_type": "code",
   "execution_count": 9,
   "id": "e9d2c1e8",
   "metadata": {
    "id": "e9d2c1e8"
   },
   "outputs": [
    {
     "data": {
      "image/png": "[encoded data removed]",
      "text/plain": [
       "<Figure size 504x504 with 1 Axes>"
      ]
     },
     "metadata": {
      "needs_background": "light"
     },
     "output_type": "display_data"
    }
   ],
   "source": [
    "# 1.3.2.4\n",
    "\n",
    "# Get the predictions of x_test into `y_pred`\n",
    "\n",
    "# fit the model with the best learning rate\n",
    "model = RidgeRegression(x_train, y_train, x_test, y_test, 0.03, 0.1)\n",
    "model.fit()\n",
    "# get predictions\n",
    "y_pred = model.predict(x_test)\n",
    "\n",
    "fig, ax = plt.subplots(figsize=(7,7))\n",
    "\n",
    "ax.scatter(y_test, y_pred)\n",
    "\n",
    "lims = [\n",
    "    np.min([ax.get_xlim(), ax.get_ylim()]),\n",
    "    np.max([ax.get_xlim(), ax.get_ylim()]),\n",
    "]\n",
    "ax.plot(lims, lims, 'k-', alpha=0.75, zorder=0)\n",
    "ax.set_aspect('equal')\n",
    "ax.set_xlim(lims)\n",
    "ax.set_ylim(lims)\n",
    "\n",
    "ax.set_title('Parity Plot of Custom Linear Regression')\n",
    "ax.set_xlabel('Ground truth y-values')\n",
    "ax.set_ylabel('Predicted y-values')\n",
    "plt.show()"
   ]
  },
  {
   "cell_type": "markdown",
   "id": "popular-wonder",
   "metadata": {
    "id": "popular-wonder"
   },
   "source": [
    "### 1.3.3 Implement Lasso Regression\n",
    "1.3.3.1 Explain Lasso regression briefly in 1-2 lines.\n",
    "\n",
    "1.3.3.2 Implement Lasso regression and make a table of different RMSE scores you achieved with different values of alpha.\n",
    "\n",
    "1.3.3.3 What does the parameter `alpha` do? How does it affect the results here? Explain in 5-10 lines in total.\n",
    "\n",
    "1.3.3.4 Make a Parity Plot of Lasso Regression model's y-predictions on the test set with the actual values."
   ]
  },
  {
   "cell_type": "markdown",
   "id": "mV9BlPIjm-K1",
   "metadata": {
    "id": "mV9BlPIjm-K1"
   },
   "source": [
    "<!-- Your answer to 1.3.3.1 -->\n",
    "`1.3.3.1 Answer`"
   ]
  },
  {
   "cell_type": "code",
   "execution_count": 10,
   "id": "09148bbc",
   "metadata": {
    "id": "09148bbc"
   },
   "outputs": [],
   "source": [
    "# 1.3.3.2\n",
    "# implement Lasso regression and make a table where you explore the effect of different values of `alpha`\n",
    "\n",
    "# Class for Lasso Regression\n",
    "class LassoRegression:\n",
    "    def __init__(self, x_train, y_train, x_test, y_test, lr=0.03, alpha=0.1):\n",
    "        self.x_train = x_train\n",
    "        self.y_train = y_train\n",
    "        self.x_test = x_test\n",
    "        self.y_test = y_test\n",
    "        self.w = np.zeros((x_train.shape[1], 1))\n",
    "        self.b = 0\n",
    "        self.learning_rate = lr\n",
    "        self.num_iterations = 10000\n",
    "        self.alpha = alpha\n",
    "        self.costs = []\n",
    "        \n",
    "    def fit(self):\n",
    "        m = self.x_train.shape[0]\n",
    "        for i in range(self.num_iterations):\n",
    "            # calculate y_hat\n",
    "            y_hat = np.dot(self.x_train, self.w) + self.b\n",
    "            # calculate cost\n",
    "            cost = (1/(2*m)) * np.sum(np.square(y_hat - self.y_train)) + self.alpha * np.sum(np.abs(self.w))\n",
    "            # calculate gradients\n",
    "            dw = (1/m) * np.dot(self.x_train.T, (y_hat - self.y_train)) + self.alpha * np.sign(self.w)\n",
    "            db = (1/m) * np.sum(y_hat - self.y_train)\n",
    "            # update weights and bias\n",
    "            self.w = self.w - self.learning_rate * dw\n",
    "            self.b = self.b - self.learning_rate * db\n",
    "            # store cost\n",
    "            self.costs.append(cost)\n",
    "\n",
    "            # stop if cost is less than 0.0001\n",
    "            if cost < 0.0001:\n",
    "                break\n",
    "            \n",
    "    def predict(self, x):\n",
    "        y_hat = np.dot(x, self.w) + self.b\n",
    "        return y_hat\n",
    "    \n",
    "    def RMSE(self):\n",
    "        y_hat = self.predict(self.x_test)\n",
    "        m = self.x_test.shape[0]\n",
    "        rmse = np.sqrt((1/m) * np.sum(np.square(y_hat - self.y_test)))\n",
    "        return rmse\n",
    "\n",
    "    def plot_train_error(self):\n",
    "        plt.plot(self.costs)\n",
    "        plt.xlabel('Iterations')\n",
    "        plt.ylabel('Train Error')\n",
    "        plt.title('Train Error vs Iterations')\n",
    "        plt.show()"
   ]
  },
  {
   "cell_type": "code",
   "execution_count": 11,
   "id": "290580ee",
   "metadata": {},
   "outputs": [
    {
     "data": {
      "image/png": "[encoded data removed]",
      "text/plain": [
       "<Figure size 432x288 with 1 Axes>"
      ]
     },
     "metadata": {
      "needs_background": "light"
     },
     "output_type": "display_data"
    }
   ],
   "source": [
    "# try different values of alpha\n",
    "\n",
    "# try alphas from 0 to 20 with step size 0.1\n",
    "alphas = np.arange(0, 20, 0.1)\n",
    "# store RMSE for each alpha\n",
    "RMSEs = []\n",
    "for alpha in alphas:\n",
    "    model = LassoRegression(x_train, y_train, x_test, y_test, 0.03, alpha)\n",
    "    model.fit()\n",
    "    RMSEs.append(model.RMSE())\n",
    "\n",
    "# plot RMSE vs alpha\n",
    "plt.plot(alphas, RMSEs)\n",
    "plt.xlabel('Alpha')\n",
    "plt.ylabel('RMSE')\n",
    "plt.title('RMSE vs Alpha (Lasso Regression)')\n",
    "plt.show()"
   ]
  },
  {
   "cell_type": "markdown",
   "id": "Hq5eyeqem-K2",
   "metadata": {
    "id": "Hq5eyeqem-K2"
   },
   "source": [
    "<!-- Your answer to 1.3.3.3 -->\n",
    "`1.3.3.3 Answer`"
   ]
  },
  {
   "cell_type": "code",
   "execution_count": 12,
   "id": "accompanied-worst",
   "metadata": {
    "id": "accompanied-worst"
   },
   "outputs": [
    {
     "data": {
      "image/png": "[encoded data removed]",
      "text/plain": [
       "<Figure size 504x504 with 1 Axes>"
      ]
     },
     "metadata": {
      "needs_background": "light"
     },
     "output_type": "display_data"
    }
   ],
   "source": [
    "# 1.3.3.4\n",
    "\n",
    "# Get the predictions of x_test into `y_pred`\n",
    "\n",
    "# fit the model with the best learning rate\n",
    "model = LassoRegression(x_train, y_train, x_test, y_test, 0.03, 0.1)\n",
    "model.fit()\n",
    "# get predictions\n",
    "y_pred = model.predict(x_test)\n",
    "\n",
    "fig, ax = plt.subplots(figsize=(7,7))\n",
    "\n",
    "ax.scatter(y_test, y_pred)\n",
    "\n",
    "lims = [\n",
    "    np.min([ax.get_xlim(), ax.get_ylim()]),\n",
    "    np.max([ax.get_xlim(), ax.get_ylim()]),\n",
    "]\n",
    "ax.plot(lims, lims, 'k-', alpha=0.75, zorder=0)\n",
    "ax.set_aspect('equal')\n",
    "ax.set_xlim(lims)\n",
    "ax.set_ylim(lims)\n",
    "\n",
    "ax.set_title('Parity Plot of Custom Linear Regression')\n",
    "ax.set_xlabel('Ground truth y-values')\n",
    "ax.set_ylabel('Predicted y-values')\n",
    "plt.show()"
   ]
  }
 ],
 "metadata": {
  "colab": {
   "provenance": []
  },
  "kernelspec": {
   "display_name": "Python 3",
   "language": "python",
   "name": "python3"
  },
  "language_info": {
   "codemirror_mode": {
    "name": "ipython",
    "version": 3
   },
   "file_extension": ".py",
   "mimetype": "text/x-python",
   "name": "python",
   "nbconvert_exporter": "python",
   "pygments_lexer": "ipython3",
   "version": "3.8.10 (default, Nov 14 2022, 12:59:47) \n[GCC 9.4.0]"
  },
  "vscode": {
   "interpreter": {
    "hash": "916dbcbb3f70747c44a77c7bcd40155683ae19c65e1c03b4aa3499c5328201f1"
   }
  }
 },
 "nbformat": 4,
 "nbformat_minor": 5
}
