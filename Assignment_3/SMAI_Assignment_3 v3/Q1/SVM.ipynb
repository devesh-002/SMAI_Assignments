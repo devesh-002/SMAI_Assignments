{
 "cells": [
  {
   "cell_type": "markdown",
   "id": "e709daec-676f-43c4-b995-cc7ab58ecda0",
   "metadata": {
    "jp-MarkdownHeadingCollapsed": true,
    "tags": []
   },
   "source": [
    "# SMAI Assignment - 3\n",
    "\n",
    "## Question - `1` : Support Vector Machines\n",
    "\n",
    "| | |\n",
    "|- | -|\n",
    "| Course | Statistical Methods in AI |\n",
    "| Release Date | `09.03.2023` |\n",
    "| Due Date | `24.03.2023` |"
   ]
  },
  {
   "cell_type": "markdown",
   "id": "af3b5b55-94e7-4d17-a3c6-bc9246d7b116",
   "metadata": {},
   "source": [
    "This section is divided into 2 subsections.\n",
    "\n",
    "\n",
    "*   In the first subsection, you will work on a synthetic dataset and visualize the boundary predicted by SVM. You will also vary the value of C-parameter and see how the decision boundary changes. **Please note that you cannot use inbuilt sklearn function for SVM in this sub-section**. You can only use a QCQP (Quadratically Constrained Quadratic Program) solver like CVXPY. \n",
    "\n",
    "  References which you may find helpful for this subsection: \n",
    "  \n",
    "  1.   https://www.cvxpy.org/\n",
    "  2.   https://www.cvxpy.org/examples/basic/quadratic_program.html\n",
    "\n",
    "  Note that in this section you are expected to show how you derived the Quadratically Constrained form(which can be passed into the solver) from the basic principles of SVM algorithm\n",
    "*  In the second subsection you will use be using the famous MNIST dataset to explore various kernels and report the results. **Please note you may use inbuilt sklearn SVM functions in this subsection**\n"
   ]
  },
  {
   "cell_type": "code",
   "execution_count": 1,
   "id": "5024e6b9",
   "metadata": {},
   "outputs": [
    {
     "name": "stdout",
     "output_type": "stream",
     "text": [
      "/usr/local/lib/python3.8/dist-packages/pkg_resources/__init__.py:116: PkgResourcesDeprecationWarning: 0.23ubuntu1 is an invalid version and will not be supported in a future release\n",
      "  warnings.warn(\n",
      "/usr/local/lib/python3.8/dist-packages/pkg_resources/__init__.py:116: PkgResourcesDeprecationWarning: 0.3.11py3 is an invalid version and will not be supported in a future release\n",
      "  warnings.warn(\n",
      "/usr/local/lib/python3.8/dist-packages/pkg_resources/__init__.py:116: PkgResourcesDeprecationWarning: 0.1.36ubuntu1 is an invalid version and will not be supported in a future release\n",
      "  warnings.warn(\n",
      "/usr/lib/python3/dist-packages/secretstorage/dhcrypto.py:15: CryptographyDeprecationWarning: int_from_bytes is deprecated, use int.from_bytes instead\n",
      "  from cryptography.utils import int_from_bytes\n",
      "/usr/lib/python3/dist-packages/secretstorage/util.py:19: CryptographyDeprecationWarning: int_from_bytes is deprecated, use int.from_bytes instead\n",
      "  from cryptography.utils import int_from_bytes\n",
      "Requirement already satisfied: numpy in /home/devesh/.local/lib/python3.8/site-packages (1.22.0)\n",
      "/usr/local/lib/python3.8/dist-packages/pkg_resources/__init__.py:116: PkgResourcesDeprecationWarning: 0.23ubuntu1 is an invalid version and will not be supported in a future release\n",
      "  warnings.warn(\n",
      "/usr/local/lib/python3.8/dist-packages/pkg_resources/__init__.py:116: PkgResourcesDeprecationWarning: 0.3.11py3 is an invalid version and will not be supported in a future release\n",
      "  warnings.warn(\n",
      "/usr/local/lib/python3.8/dist-packages/pkg_resources/__init__.py:116: PkgResourcesDeprecationWarning: 0.1.36ubuntu1 is an invalid version and will not be supported in a future release\n",
      "  warnings.warn(\n",
      "/usr/lib/python3/dist-packages/secretstorage/dhcrypto.py:15: CryptographyDeprecationWarning: int_from_bytes is deprecated, use int.from_bytes instead\n",
      "  from cryptography.utils import int_from_bytes\n",
      "/usr/lib/python3/dist-packages/secretstorage/util.py:19: CryptographyDeprecationWarning: int_from_bytes is deprecated, use int.from_bytes instead\n",
      "  from cryptography.utils import int_from_bytes\n",
      "Requirement already satisfied: matplotlib in /usr/lib/python3/dist-packages (3.1.2)\n",
      "/usr/local/lib/python3.8/dist-packages/pkg_resources/__init__.py:116: PkgResourcesDeprecationWarning: 0.23ubuntu1 is an invalid version and will not be supported in a future release\n",
      "  warnings.warn(\n",
      "/usr/local/lib/python3.8/dist-packages/pkg_resources/__init__.py:116: PkgResourcesDeprecationWarning: 0.3.11py3 is an invalid version and will not be supported in a future release\n",
      "  warnings.warn(\n",
      "/usr/local/lib/python3.8/dist-packages/pkg_resources/__init__.py:116: PkgResourcesDeprecationWarning: 0.1.36ubuntu1 is an invalid version and will not be supported in a future release\n",
      "  warnings.warn(\n",
      "/usr/lib/python3/dist-packages/secretstorage/dhcrypto.py:15: CryptographyDeprecationWarning: int_from_bytes is deprecated, use int.from_bytes instead\n",
      "  from cryptography.utils import int_from_bytes\n",
      "/usr/lib/python3/dist-packages/secretstorage/util.py:19: CryptographyDeprecationWarning: int_from_bytes is deprecated, use int.from_bytes instead\n",
      "  from cryptography.utils import int_from_bytes\n",
      "/usr/local/lib/python3.8/dist-packages/pkg_resources/__init__.py:116: PkgResourcesDeprecationWarning: 0.23ubuntu1 is an invalid version and will not be supported in a future release\n",
      "  warnings.warn(\n",
      "/usr/local/lib/python3.8/dist-packages/pkg_resources/__init__.py:116: PkgResourcesDeprecationWarning: 0.3.11py3 is an invalid version and will not be supported in a future release\n",
      "  warnings.warn(\n",
      "/usr/local/lib/python3.8/dist-packages/pkg_resources/__init__.py:116: PkgResourcesDeprecationWarning: 0.1.36ubuntu1 is an invalid version and will not be supported in a future release\n",
      "  warnings.warn(\n",
      "Collecting cvxpy\n",
      "  Downloading cvxpy-1.3.1-cp38-cp38-manylinux_2_17_x86_64.manylinux2014_x86_64.whl (4.0 MB)\n",
      "\u001b[K     |████████████████████████████████| 4.0 MB 1.4 MB/s eta 0:00:01\n",
      "\u001b[?25hRequirement already satisfied: scipy>=1.1.0 in /home/devesh/.local/lib/python3.8/site-packages (from cvxpy) (1.6.3)\n",
      "Collecting setuptools>65.5.1\n",
      "  Using cached setuptools-67.6.0-py3-none-any.whl (1.1 MB)\n",
      "Collecting scs>=1.1.6\n",
      "  Downloading scs-3.2.2-cp38-cp38-manylinux_2_17_x86_64.manylinux2014_x86_64.whl (10.7 MB)\n",
      "\u001b[K     |████████████████████████████████| 10.7 MB 784 kB/s eta 0:00:01\n",
      "\u001b[?25hRequirement already satisfied: numpy>=1.15 in /home/devesh/.local/lib/python3.8/site-packages (from cvxpy) (1.22.0)\n",
      "Collecting osqp>=0.4.1\n",
      "  Downloading osqp-0.6.2.post8-cp38-cp38-manylinux_2_5_x86_64.manylinux1_x86_64.manylinux_2_17_x86_64.manylinux2014_x86_64.whl (299 kB)\n",
      "\u001b[K     |████████████████████████████████| 299 kB 9.8 MB/s eta 0:00:01\n",
      "\u001b[?25hCollecting ecos>=2\n",
      "  Downloading ecos-2.0.12-cp38-cp38-manylinux_2_17_x86_64.manylinux2014_x86_64.whl (221 kB)\n",
      "\u001b[K     |████████████████████████████████| 221 kB 9.9 MB/s eta 0:00:01\n",
      "\u001b[?25hCollecting qdldl\n",
      "  Downloading qdldl-0.1.5.post3-cp38-cp38-manylinux_2_17_x86_64.manylinux2014_x86_64.whl (1.0 MB)\n",
      "\u001b[K     |████████████████████████████████| 1.0 MB 2.2 MB/s eta 0:00:01\n",
      "\u001b[?25h\u001b[31mERROR: launchpadlib 1.10.13 requires testresources, which is not installed.\u001b[0m\n",
      "\u001b[31mERROR: fastai 1.0.57 requires torch>=1.0.0, which is not installed.\u001b[0m\n",
      "Installing collected packages: setuptools, scs, qdldl, osqp, ecos, cvxpy\n",
      "Successfully installed cvxpy-1.3.1 ecos-2.0.12 osqp-0.6.2.post8 qdldl-0.1.5.post3 scs-3.2.2 setuptools-67.6.0\n"
     ]
    }
   ],
   "source": [
    "!pip3 install numpy\n",
    "!pip3 install matplotlib\n",
    "!pip3 install cvxpy\n",
    "import numpy as np\n",
    "import cvxpy as cp\n",
    "import matplotlib.pyplot as plt"
   ]
  },
  {
   "cell_type": "markdown",
   "id": "122ebcc9",
   "metadata": {
    "jp-MarkdownHeadingCollapsed": true,
    "tags": []
   },
   "source": [
    "### Subsection 1"
   ]
  },
  {
   "cell_type": "code",
   "execution_count": null,
   "id": "193fa0dc",
   "metadata": {},
   "outputs": [],
   "source": [
    "# Helper function to visualize 2D points X with labels +1 or -1\n",
    "def plot_points(X, Y):\n",
    "    reds = []\n",
    "    blues = []\n",
    "    for i in range(Y.shape[0]):\n",
    "        if Y[i] == 1:\n",
    "            reds.append(X[i])\n",
    "        else:\n",
    "            blues.append(X[i])\n",
    "    reds = np.array(reds)\n",
    "    blues = np.array(blues)\n",
    "    plt.scatter(reds[:, 0], reds[:, 1], c = 'r')\n",
    "    plt.scatter(blues[:, 0], blues[:, 1], c = 'b')"
   ]
  },
  {
   "cell_type": "code",
   "execution_count": null,
   "id": "4e30d978",
   "metadata": {},
   "outputs": [],
   "source": [
    "# Create Synthetic Data and visualize the points\n",
    "X = np.array([[-3.5, -1], [-3, 0], [-3, 1], [-2.7, -1.3], [-2, -1], [-2, -2.7], \n",
    "              [-1, -2.5], [0, -3], [-1.1, 0], [0, 2.5], [1, 2], [0.7, 4], \n",
    "              [2.1, 0.2], [2.3, 1], [2.8, 1.8], [2.2, 2.8]])\n",
    "y = np.array([1, 1, 1, 1, 1, 1, 1, 1, -1, -1, -1, -1, -1, -1, -1, -1])\n",
    "\n",
    "plot_points(X, y)\n",
    "plt.show()"
   ]
  },
  {
   "cell_type": "markdown",
   "id": "f0e5df93",
   "metadata": {},
   "source": [
    "In the next cell you are required to find the Quadratic Constrained Quadratic form of SVM **without soft constraints** from the basic principles (check the svm slides uploaded in the portal). Start with the idea that SVM tries to maximize the margin and then derive the form which you can feed to the solver.\n",
    "\n",
    "Please print the values of w, b. \n",
    "\n",
    "**Note: You are also required to upload a page of the derivation. You may also type it in markdown here**\n",
    "\n",
    "**Note: You cannot use sklearn SVM functions here**"
   ]
  },
  {
   "cell_type": "code",
   "execution_count": null,
   "id": "84197274",
   "metadata": {},
   "outputs": [],
   "source": [
    "# Write your code here"
   ]
  },
  {
   "cell_type": "markdown",
   "id": "a9b1e0da",
   "metadata": {},
   "source": [
    "In the next cell you are required to visualize the boundary predicted by the solver. You may want to revise up on how to plot the a line given w, b. Please plot w vector as well as the margin lines.\n",
    "\n",
    "Create a function to plot the line of separation as you would require this frequently in the subsequent parts of the assignment."
   ]
  },
  {
   "cell_type": "code",
   "execution_count": null,
   "id": "5f96d4d6",
   "metadata": {},
   "outputs": [],
   "source": [
    "# Write your code here"
   ]
  },
  {
   "cell_type": "markdown",
   "id": "658b1a66",
   "metadata": {},
   "source": [
    "In the next cell add the following points:\n",
    "* (-4, -10) with label 1\n",
    "* (4, 4) with label -1\n",
    "\n",
    "Is the decision boundary changed after adding the points? Plot it. Explain your observations theoretically."
   ]
  },
  {
   "cell_type": "code",
   "execution_count": null,
   "id": "80306b81",
   "metadata": {},
   "outputs": [],
   "source": [
    "# Re-create the Synthetic Data by adding the points and visualize the points"
   ]
  },
  {
   "cell_type": "code",
   "execution_count": null,
   "id": "b261003f",
   "metadata": {},
   "outputs": [],
   "source": [
    "# Solve for the decision boundary using this modified dataset"
   ]
  },
  {
   "cell_type": "markdown",
   "id": "0f1cf9f3",
   "metadata": {},
   "source": [
    "In the next cell you are required to modify your framing of optimisation problem to incorporate soft constraints also known as slack. Plot the decision boundary, w and margin lines for various values of C: $0.01$, $0.1$, $3$, $10$, $100$.\n",
    "\n",
    "Explain your results theoretically. How does the boundary change with varying values of C? Why?\n",
    "\n",
    "**Note: Use the modified X and y i.e after adding points in previous cell**"
   ]
  },
  {
   "cell_type": "code",
   "execution_count": null,
   "id": "ce4f034f",
   "metadata": {},
   "outputs": [],
   "source": [
    "# Write your code here for C= 0.01"
   ]
  },
  {
   "cell_type": "code",
   "execution_count": null,
   "id": "dbefa5fe",
   "metadata": {},
   "outputs": [],
   "source": [
    "# Write your code here for C= 0.1"
   ]
  },
  {
   "cell_type": "code",
   "execution_count": null,
   "id": "6ae9583d",
   "metadata": {},
   "outputs": [],
   "source": [
    "# Write your code here for C= 3"
   ]
  },
  {
   "cell_type": "code",
   "execution_count": null,
   "id": "5d38823c",
   "metadata": {},
   "outputs": [],
   "source": [
    "# Write your code here for C= 10"
   ]
  },
  {
   "cell_type": "code",
   "execution_count": null,
   "id": "c19a80ac",
   "metadata": {},
   "outputs": [],
   "source": [
    "# Write your code here for C= 100"
   ]
  },
  {
   "cell_type": "markdown",
   "id": "2df4e54a",
   "metadata": {},
   "source": [
    "Take the case of C = 100 and remove the support vectors. Does the boundary change after the deletion? Explain why?"
   ]
  },
  {
   "cell_type": "code",
   "execution_count": null,
   "id": "efd0de52",
   "metadata": {},
   "outputs": [],
   "source": [
    "# Write your Code here"
   ]
  },
  {
   "cell_type": "markdown",
   "id": "5112cd3f",
   "metadata": {
    "jp-MarkdownHeadingCollapsed": true,
    "tags": []
   },
   "source": [
    "### Subsection 2"
   ]
  },
  {
   "cell_type": "code",
   "execution_count": null,
   "id": "3e8e2de6",
   "metadata": {},
   "outputs": [],
   "source": [
    "!pip install python-mnist\n",
    "!rm -rf samples\n",
    "!mkdir samples\n",
    "!wget http://yann.lecun.com/exdb/mnist/train-images-idx3-ubyte.gz -P samples/\n",
    "!gunzip samples/train-images-idx3-ubyte.gz\n",
    "!wget http://yann.lecun.com/exdb/mnist/train-labels-idx1-ubyte.gz -P samples/\n",
    "!gunzip samples/train-labels-idx1-ubyte.gz\n",
    "!wget http://yann.lecun.com/exdb/mnist/t10k-images-idx3-ubyte.gz -P samples/\n",
    "!gunzip samples/t10k-images-idx3-ubyte.gz\n",
    "!wget http://yann.lecun.com/exdb/mnist/t10k-labels-idx1-ubyte.gz -P samples/\n",
    "!gunzip samples/t10k-labels-idx1-ubyte.gz"
   ]
  },
  {
   "cell_type": "code",
   "execution_count": null,
   "id": "af8d27d7",
   "metadata": {},
   "outputs": [],
   "source": [
    "# Import Relevant Packages\n",
    "from sklearn.svm import SVC\n",
    "import numpy as np\n",
    "from mnist.loader import MNIST"
   ]
  },
  {
   "cell_type": "code",
   "execution_count": null,
   "id": "71500275",
   "metadata": {},
   "outputs": [],
   "source": [
    "mndata = MNIST('samples')\n",
    "\n",
    "# Load training dataset\n",
    "images, labels = mndata.load_training()\n",
    "l = len(labels)\n",
    "images_train = np.array(images)\n",
    "labels_train = np.array(labels)\n",
    "\n",
    "print(images_train.shape)\n",
    "print(labels_train.shape)"
   ]
  },
  {
   "cell_type": "code",
   "execution_count": null,
   "id": "eec20e4f",
   "metadata": {},
   "outputs": [],
   "source": [
    "# Load testing dataset\n",
    "images, labels = mndata.load_testing()\n",
    "l = len(labels)\n",
    "images_test = np.array(images)\n",
    "labels_test = np.array(labels)\n",
    "\n",
    "print(images_test.shape)\n",
    "print(labels_test.shape)"
   ]
  },
  {
   "cell_type": "markdown",
   "id": "c5ddaf4a",
   "metadata": {},
   "source": [
    "- Tweak different parameters like the C Parameter and gamma parameter of the Linear SVM and report the results.\n",
    "- Experiment different kernels (Linear, Polynomial, RBF, Sigmoid) for classification and report the results.\n",
    "\n",
    "Report accuracy score, F1-score, Confusion matrix and any other metrics you feel useful."
   ]
  },
  {
   "cell_type": "code",
   "execution_count": null,
   "id": "4e138279",
   "metadata": {},
   "outputs": [],
   "source": [
    "# use this subset of data for training and testing\n",
    "\n",
    "batch = 3000\n",
    "X_train = images_train[:batch,:]\n",
    "y_train = labels_train[:batch]\n",
    "\n",
    "X_test = images_test[batch:2*batch,:]\n",
    "y_test = labels_test[batch:2*batch]"
   ]
  },
  {
   "cell_type": "code",
   "execution_count": null,
   "id": "ddd6a92f",
   "metadata": {},
   "outputs": [],
   "source": [
    "print(X_train.shape)\n",
    "print(y_train.shape)\n",
    "print(X_test.shape)\n",
    "print(y_test.shape)"
   ]
  },
  {
   "cell_type": "code",
   "execution_count": null,
   "id": "d5c07655",
   "metadata": {},
   "outputs": [],
   "source": []
  }
 ],
 "metadata": {
  "kernelspec": {
   "display_name": "Python 3 (ipykernel)",
   "language": "python",
   "name": "python3"
  },
  "language_info": {
   "codemirror_mode": {
    "name": "ipython",
    "version": 3
   },
   "file_extension": ".py",
   "mimetype": "text/x-python",
   "name": "python",
   "nbconvert_exporter": "python",
   "pygments_lexer": "ipython3",
   "version": "3.8.10"
  }
 },
 "nbformat": 4,
 "nbformat_minor": 5
}
